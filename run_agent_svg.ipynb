{
 "cells": [
  {
   "cell_type": "code",
   "execution_count": null,
   "id": "94d4f618",
   "metadata": {},
   "outputs": [],
   "source": [
    "import os\n",
    "os.environ['OPENAI_API_KEY'] = ''\n",
    "os.environ['GEMINI_API_KEY'] = ''"
   ]
  },
  {
   "cell_type": "code",
   "execution_count": null,
   "id": "2f69869f",
   "metadata": {},
   "outputs": [],
   "source": [
    "import os\n",
    "from agent.agent_svg import Agent\n",
    "from render_svg import SVGAgent"
   ]
  },
  {
   "cell_type": "code",
   "execution_count": null,
   "id": "0f68d1ae",
   "metadata": {},
   "outputs": [],
   "source": [
    "model_name = \"gemini-2.5-pro\"\n",
    "task_id = ''\n",
    "tgt_img_path = f\"./{task_id}.jpg\"\n",
    "canvas_w = 800\n",
    "canvas_h = 600\n",
    "agent = Agent(model_name=model_name, target_image_path=tgt_img_path, canvas_w=canvas_w, canvas_h=canvas_h)\n",
    "agent_png = SVGAgent(canvas_height=canvas_h, canvas_width=canvas_w)"
   ]
  },
  {
   "cell_type": "code",
   "execution_count": null,
   "id": "5ba59353",
   "metadata": {},
   "outputs": [],
   "source": [
    "cus_instruct = \"Stick to the text instruction shown on the image. The color text refers to the fill color. Pay attention to vertical horizontal alignment. Clearly specify the direction of each arrows and its origin and target.\""
   ]
  },
  {
   "cell_type": "code",
   "execution_count": null,
   "id": "c38ae930",
   "metadata": {},
   "outputs": [],
   "source": [
    "init_expression = agent.initialize(cus_instruct=cus_instruct)"
   ]
  },
  {
   "cell_type": "code",
   "execution_count": null,
   "id": "e0f567f3",
   "metadata": {},
   "outputs": [],
   "source": [
    "output_path = f'agent_svg/{task_id}'\n",
    "os.makedirs(output_path, exist_ok=True)\n",
    "agent_png.create_from_dict(init_expression)\n",
    "agent_png.save_png(os.path.join(output_path, \"initial.png\"))"
   ]
  },
  {
   "cell_type": "code",
   "execution_count": null,
   "id": "6d9c046d",
   "metadata": {},
   "outputs": [],
   "source": [
    "new_expression, step_info, improvement_made = agent.optimization_step_vlm(current_image_path=f'./agent_svg/{task_id}/initial.png', current_expression=init_expression, output_path=output_path, cus_instruct=cus_instruct)"
   ]
  },
  {
   "cell_type": "code",
   "execution_count": null,
   "id": "a46cdfbc",
   "metadata": {},
   "outputs": [],
   "source": [
    "agent_png.clear()\n",
    "agent_png.create_from_dict(new_expression)\n",
    "agent_png.save_png(os.path.join(output_path, \"optimized_1.png\"))"
   ]
  },
  {
   "cell_type": "code",
   "execution_count": null,
   "id": "5ec159f6",
   "metadata": {},
   "outputs": [],
   "source": [
    "i = 1\n",
    "while i < 5:\n",
    "    new_expression, step_info, improvement_made = agent.optimization_step_vlm(current_image_path=f'./agent_svg/{task_id}/optimized_{i}.png', current_expression=new_expression, output_path=output_path, cus_instruct=cus_instruct)\n",
    "    print(f\"Step {i+1}: Improvement made - \", improvement_made)\n",
    "    print(step_info)\n",
    "    if improvement_made:\n",
    "        agent_png.clear()\n",
    "        agent_png.create_from_dict(new_expression)\n",
    "        i += 1\n",
    "        agent_png.save_png(os.path.join(output_path, f\"optimized_{i}.png\"))"
   ]
  }
 ],
 "metadata": {
  "kernelspec": {
   "display_name": "tree-diff",
   "language": "python",
   "name": "python3"
  },
  "language_info": {
   "codemirror_mode": {
    "name": "ipython",
    "version": 3
   },
   "file_extension": ".py",
   "mimetype": "text/x-python",
   "name": "python",
   "nbconvert_exporter": "python",
   "pygments_lexer": "ipython3",
   "version": "3.11.13"
  }
 },
 "nbformat": 4,
 "nbformat_minor": 5
}
